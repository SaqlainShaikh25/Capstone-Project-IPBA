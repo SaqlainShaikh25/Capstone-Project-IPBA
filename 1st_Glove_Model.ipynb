{
 "cells": [
  {
   "cell_type": "code",
   "execution_count": null,
   "metadata": {
    "colab": {
     "base_uri": "https://localhost:8080/"
    },
    "id": "_CmPPcqZMlKJ",
    "outputId": "2829dc10-af98-497c-99ea-87d449cf8ab5"
   },
   "outputs": [],
   "source": [
    "import pandas as pd\n",
    "import os\n",
    "import numpy as np\n",
    "from sklearn.metrics.pairwise import cosine_similarity\n",
    "import nltk\n",
    "from nltk.corpus import stopwords\n",
    "import re\n",
    "import string\n",
    "import random\n",
    "from nltk.tokenize import RegexpTokenizer\n",
    "nltk.download('stopwords')\n",
    "from fuzzywuzzy import fuzz\n"
   ]
  },
  {
   "cell_type": "code",
   "execution_count": null,
   "metadata": {
    "id": "Ug3TMpP9OU4F"
   },
   "outputs": [],
   "source": [
    "# Import the imdb movies dataset\n",
    "df = pd.read_csv(\"D:\\\\IPBA\\\\BYOP_G_L\\\\data.csv\")"
   ]
  },
  {
   "cell_type": "code",
   "execution_count": null,
   "metadata": {},
   "outputs": [],
   "source": [
    "df.dtypes"
   ]
  },
  {
   "cell_type": "code",
   "execution_count": null,
   "metadata": {
    "id": "UJJoRcZPOaqk"
   },
   "outputs": [],
   "source": [
    "# Combine movie name and tags into a single string\n",
    "df['content'] = df['product_name'].astype(str) + ' ' + df['rating'].astype(str) + ' ' + df['product_tag'] + ' ' + df['brand_tag']\n",
    "df['content'] = df['content'].fillna('')"
   ]
  },
  {
   "cell_type": "code",
   "execution_count": null,
   "metadata": {
    "id": "uwrvF2I5Oj2s"
   },
   "outputs": [],
   "source": [
    "#Utitlity functions for removing ASCII characters, converting lower case, removing stop words, html and punctuation from description\n",
    "\n",
    "def _removeNonAscii(s):\n",
    "    return \"\".join(i for i in s if  ord(i)<128)\n",
    "\n",
    "def make_lower_case(text):\n",
    "    return text.lower()\n",
    "\n",
    "def remove_stop_words(text):\n",
    "    text = text.split()\n",
    "    stops = set(stopwords.words(\"english\"))\n",
    "    text = [w for w in text if not w in stops]\n",
    "    text = \" \".join(text)\n",
    "    return text\n",
    "\n",
    "def remove_html(text):\n",
    "    html_pattern = re.compile('<.*?>')\n",
    "    return html_pattern.sub(r'', text)\n",
    "\n",
    "def remove_punctuation(text):\n",
    "    tokenizer = RegexpTokenizer(r'\\w+')\n",
    "    text = tokenizer.tokenize(text)\n",
    "    text = \" \".join(text)\n",
    "    return text\n",
    "\n",
    "df['cleaned_content'] = df['content'].apply(_removeNonAscii)\n",
    "\n",
    "df['cleaned_content'] = df.cleaned_content.apply(func = make_lower_case)\n",
    "df['cleaned_content'] = df.cleaned_content.apply(func = remove_stop_words)\n",
    "df['cleaned_content'] = df.cleaned_content.apply(func=remove_punctuation)\n",
    "df['cleaned_content'] = df.cleaned_content.apply(func=remove_html)"
   ]
  },
  {
   "cell_type": "code",
   "execution_count": null,
   "metadata": {},
   "outputs": [],
   "source": [
    "df.head()"
   ]
  },
  {
   "cell_type": "code",
   "execution_count": null,
   "metadata": {
    "id": "xifJI641Dh1R"
   },
   "outputs": [],
   "source": [
    "os.chdir(\"D:\\\\py virtual environment\\\\glove files\")"
   ]
  },
  {
   "cell_type": "code",
   "execution_count": null,
   "metadata": {
    "id": "HKmStVRwZDOH"
   },
   "outputs": [],
   "source": [
    "glove_file=\"D:\\\\py virtual environment\\\\glove files\\\\glove.6B.100d.txt\""
   ]
  },
  {
   "cell_type": "code",
   "execution_count": null,
   "metadata": {
    "colab": {
     "base_uri": "https://localhost:8080/",
     "height": 327
    },
    "id": "g2bbzHo29kwS",
    "outputId": "cec877ee-d8d6-499d-c345-5156e66e37fc"
   },
   "outputs": [],
   "source": [
    "# Load the GloVe model\n",
    "def load_glove_model(glove_file):\n",
    "    print(\"Loading GloVe Model\")\n",
    "    glove_model = {}\n",
    "    with open(glove_file, 'r', encoding='utf8') as f:\n",
    "        for line in f:\n",
    "            split_line = line.split()\n",
    "            word = split_line[0]\n",
    "            embedding = np.array([float(val) for val in split_line[1:]])\n",
    "            glove_model[word] = embedding\n",
    "    print(\"Done.\", len(glove_model), \"words loaded!\")\n",
    "    return glove_model\n",
    "\n",
    "glove_model = load_glove_model('glove.6B.100d.txt')\n"
   ]
  },
  {
   "cell_type": "code",
   "execution_count": null,
   "metadata": {},
   "outputs": [],
   "source": [
    "# Function to convert description to Glove vector\n",
    "def description_to_glove_vector(description, glove_model):\n",
    "    words = description.split()\n",
    "    word_vectors = [glove_model.get(word, np.zeros((100,))) for word in words]\n",
    "    \n",
    "    # Filter out zero vectors (which represent missing words in the GloVe model)\n",
    "    valid_vectors = [vec for vec in word_vectors if np.any(vec)]\n",
    "    \n",
    "    if len(valid_vectors) == 0:\n",
    "        return np.zeros((100,))\n",
    "    else:\n",
    "        # Normalize the vector\n",
    "        mean_vector = np.mean(valid_vectors, axis=0)\n",
    "        return mean_vector / np.linalg.norm(mean_vector)\n",
    "\n",
    "\n"
   ]
  },
  {
   "cell_type": "code",
   "execution_count": null,
   "metadata": {},
   "outputs": [],
   "source": [
    "# Applying function to create Glove vectors\n",
    "glove_data = df['cleaned_content'].apply(lambda x: description_to_glove_vector(x, glove_model))\n",
    "\n",
    "# Slice before converting to DataFrame, taking first 50 values\n",
    "glove_data1 = glove_data.apply(lambda x: x[:50])\n",
    "\n",
    "# Converting the arrays into a DataFrame\n",
    "glove_df = pd.DataFrame(glove_data1.tolist(), columns=[f'glove_{i}' for i in range(50)])"
   ]
  },
  {
   "cell_type": "code",
   "execution_count": null,
   "metadata": {},
   "outputs": [],
   "source": [
    "glove_df.head()"
   ]
  },
  {
   "cell_type": "code",
   "execution_count": null,
   "metadata": {},
   "outputs": [],
   "source": [
    "# Convert the glove_data Series to a NumPy array\n",
    "glove_feature_array = np.vstack(glove_data)\n"
   ]
  },
  {
   "cell_type": "markdown",
   "metadata": {},
   "source": [
    "# 1st Approch (Basic Sorting)"
   ]
  },
  {
   "cell_type": "code",
   "execution_count": null,
   "metadata": {},
   "outputs": [],
   "source": [
    "# Define a function to recommend similar items based on a user input product name\n",
    "def recommend_similar_items(user_item_index, glove_feature_array, top_n=10):\n",
    "    # Compute cosine similarities between the user item and all other items\n",
    "    user_item_vector = glove_feature_array[user_item_index].reshape(1, -1)\n",
    "    similarity_scores = cosine_similarity(user_item_vector, glove_feature_array)\n",
    "\n",
    "    # Get top N most similar items (excluding the user item itself)\n",
    "    similar_items = list(enumerate(similarity_scores[0]))\n",
    "    sorted_similar_items = sorted(similar_items, key=lambda x: x[1], reverse=True)[1:top_n+1]\n",
    "\n",
    "    return sorted_similar_items"
   ]
  },
  {
   "cell_type": "code",
   "execution_count": null,
   "metadata": {},
   "outputs": [],
   "source": [
    "# Example usage: Get recommendations for a user input product name\n",
    "user_item_name = \"Croc Textured Two Fold Wallet\"  # Replace with the user input product name\n",
    "user_item_index = df[df['product_name'] == user_item_name].index[0]\n",
    "\n",
    "# Get recommendations for the user input product\n",
    "recommendations = recommend_similar_items(user_item_index, glove_feature_array)\n",
    "\n",
    "# Create a list to store the recommendations\n",
    "recommendations_list = []\n",
    "\n",
    "# Populate the list with recommendations and additional information\n",
    "for i, score in recommendations:\n",
    "    recommended_product_name = df.loc[i, 'product_name']\n",
    "    rating = df.loc[df['product_name'] == recommended_product_name, 'rating'].iloc[0]\n",
    "    brand_name = df.loc[df['product_name'] == recommended_product_name, 'brand_name'].iloc[0]\n",
    "    recommendations_list.append({\n",
    "        'Product Name': recommended_product_name,\n",
    "        'Similarity Score': score,\n",
    "        'Rating': rating,\n",
    "        'Brand Name': brand_name\n",
    "    })\n",
    "\n",
    "# Convert the list to a DataFrame\n",
    "recommendations_df = pd.DataFrame(recommendations_list)\n",
    "\n",
    "# Remove duplicate products with exact same name\n",
    "recommendations_df = recommendations_df.drop_duplicates(subset=['Product Name'])\n",
    "\n",
    "# Display the recommendations DataFrame\n",
    "print(\"Top recommended products for '{}':\".format(user_item_name))\n",
    "print(recommendations_df)"
   ]
  },
  {
   "cell_type": "markdown",
   "metadata": {},
   "source": [
    "# 2nd Approch (Fuzzywuzzy)"
   ]
  },
  {
   "cell_type": "code",
   "execution_count": null,
   "metadata": {},
   "outputs": [],
   "source": [
    "\n",
    "# Define a function to find the closest match for the user input among product names\n",
    "def find_closest_match(user_input, product_names):\n",
    "    highest_score = -1\n",
    "    closest_match = None\n",
    "    for product_name in product_names:\n",
    "        similarity_score = fuzz.partial_ratio(user_input, product_name)\n",
    "        if similarity_score > highest_score:\n",
    "            highest_score = similarity_score\n",
    "            closest_match = product_name\n",
    "    return closest_match\n",
    "\n"
   ]
  },
  {
   "cell_type": "code",
   "execution_count": null,
   "metadata": {},
   "outputs": [],
   "source": [
    "# Example usage: Get recommendations based on a user input (similar) product name\n",
    "user_input = \"shirts\"  # Replace with the user input\n",
    "closest_product_name = find_closest_match(user_input, df['product_name'])\n",
    "\n",
    "recommendations_list = []  # List to store recommendations\n",
    "\n",
    "if closest_product_name:\n",
    "    print(\"Closest matching product name:\", closest_product_name)\n",
    "    # Get recommendations for the closest matching product name\n",
    "    user_item_index = df[df['product_name'] == closest_product_name].index[0]\n",
    "    recommendations = recommend_similar_items(user_item_index, glove_feature_array)\n",
    "\n",
    "    # Populate the recommendations list with top 10 recommendations and additional information\n",
    "    for i, score in recommendations[:10]:  # Selecting only the top 10 recommendations\n",
    "        recommended_product_name = df.loc[i, 'product_name']\n",
    "        rating = df.loc[df['product_name'] == recommended_product_name, 'rating'].iloc[0]\n",
    "        brand_name = df.loc[df['product_name'] == recommended_product_name, 'brand_name'].iloc[0]\n",
    "        recommendations_list.append({\n",
    "            'Product Name': recommended_product_name,\n",
    "            'Similarity Score': score,\n",
    "            'Rating': rating,\n",
    "            'Brand Name': brand_name\n",
    "        })\n",
    "# Convert the list to a DataFrame\n",
    "recommendations_df = pd.DataFrame(recommendations_list)\n",
    "\n",
    "# Remove duplicate products with exact same name\n",
    "recommendations_df = recommendations_df.drop_duplicates(subset=['Product Name'])\n",
    "\n",
    "# Display the recommendations DataFrame\n",
    "print(\"Top 10 recommended products:\")\n",
    "print(recommendations_df)\n",
    "\n",
    "\n"
   ]
  },
  {
   "cell_type": "markdown",
   "metadata": {},
   "source": [
    "# Hybrid Model"
   ]
  },
  {
   "cell_type": "code",
   "execution_count": null,
   "metadata": {},
   "outputs": [],
   "source": [
    "# Model 1: Define a function to recommend similar items based on a user input product name\n",
    "def recommend_similar_items(user_item_index, glove_feature_array, top_n=10):\n",
    "    # Compute cosine similarities between the user item and all other items\n",
    "    user_item_vector = glove_feature_array[user_item_index].reshape(1, -1)\n",
    "    similarity_scores = cosine_similarity(user_item_vector, glove_feature_array)\n",
    "\n",
    "    # Get top N most similar items (excluding the user item itself)\n",
    "    similar_items = list(enumerate(similarity_scores[0]))\n",
    "    sorted_similar_items = sorted(similar_items, key=lambda x: x[1], reverse=True)[1:top_n+1]\n",
    "\n",
    "    return sorted_similar_items\n",
    "\n",
    "# Model 2: Define a function to find the closest match for the user input among product names\n",
    "def find_closest_match(user_input, product_names):\n",
    "    highest_score = -1\n",
    "    closest_match = None\n",
    "    for product_name in product_names:\n",
    "        similarity_score = fuzz.partial_ratio(user_input, product_name)\n",
    "        if similarity_score > highest_score:\n",
    "            highest_score = similarity_score\n",
    "            closest_match = product_name\n",
    "    return closest_match\n",
    "\n",
    "# Hybrid recommendation function\n",
    "def hybrid_recommendation(user_input, glove_feature_array, df):\n",
    "    # Model 1: Get recommendations based on the user input (similar product name)\n",
    "    closest_product_name = find_closest_match(user_input, df['product_name'])\n",
    "    recommendations_list = []  # List to store recommendations\n",
    "\n",
    "    if closest_product_name:\n",
    "        # Get recommendations for the closest matching product name\n",
    "        user_item_index = df[df['product_name'] == closest_product_name].index[0]\n",
    "        recommendations = recommend_similar_items(user_item_index, glove_feature_array)\n",
    "\n",
    "        # Populate the recommendations list with top 10 recommendations and additional information\n",
    "        for i, score in recommendations[:10]:  # Selecting only the top 10 recommendations\n",
    "            recommended_product_name = df.loc[i, 'product_name']\n",
    "            rating = df.loc[df['product_name'] == recommended_product_name, 'rating'].iloc[0]\n",
    "            brand_name = df.loc[df['product_name'] == recommended_product_name, 'brand_name'].iloc[0]\n",
    "            recommendations_list.append({\n",
    "                'Product Name': recommended_product_name,\n",
    "                'Similarity Score': score,\n",
    "                'Rating': rating,\n",
    "                'Brand Name': brand_name\n",
    "            })\n",
    "    \n",
    "    # Model 2: Get recommendations based on the user input (closest matching product name)\n",
    "    user_input_recommendations = []\n",
    "    if closest_product_name:\n",
    "        closest_match_recommendations = find_closest_match(user_input, df['product_name'])\n",
    "        if closest_match_recommendations:\n",
    "            user_input_recommendations.append(closest_match_recommendations)\n",
    "\n",
    "    # Combine recommendations from both models\n",
    "    combined_recommendations = user_input_recommendations + recommendations_list\n",
    "    \n",
    "    # Convert the list to a DataFrame\n",
    "    recommendations_df = pd.DataFrame(combined_recommendations)\n",
    "\n",
    "    return recommendations_df\n",
    "\n",
    "\n"
   ]
  },
  {
   "cell_type": "code",
   "execution_count": null,
   "metadata": {},
   "outputs": [],
   "source": [
    "# Example usage\n",
    "user_input = \"wallet\"  # Replace with the user input\n",
    "hybrid_results = hybrid_recommendation(user_input, glove_feature_array, df)\n",
    "\n",
    "# Display the hybrid recommendations DataFrame\n",
    "print(\"Hybrid recommendations:\")\n",
    "print(hybrid_results)"
   ]
  },
  {
   "cell_type": "markdown",
   "metadata": {},
   "source": [
    "# Hybrid 2"
   ]
  },
  {
   "cell_type": "code",
   "execution_count": 3,
   "metadata": {},
   "outputs": [
    {
     "ename": "ModuleNotFoundError",
     "evalue": "No module named 'Levenshtein'",
     "output_type": "error",
     "traceback": [
      "\u001b[1;31m---------------------------------------------------------------------------\u001b[0m",
      "\u001b[1;31mModuleNotFoundError\u001b[0m                       Traceback (most recent call last)",
      "Cell \u001b[1;32mIn[3], line 3\u001b[0m\n\u001b[0;32m      1\u001b[0m \u001b[38;5;28;01mimport\u001b[39;00m \u001b[38;5;21;01mpandas\u001b[39;00m \u001b[38;5;28;01mas\u001b[39;00m \u001b[38;5;21;01mpd\u001b[39;00m\n\u001b[0;32m      2\u001b[0m \u001b[38;5;28;01mfrom\u001b[39;00m \u001b[38;5;21;01mscipy\u001b[39;00m\u001b[38;5;21;01m.\u001b[39;00m\u001b[38;5;21;01mspatial\u001b[39;00m\u001b[38;5;21;01m.\u001b[39;00m\u001b[38;5;21;01mdistance\u001b[39;00m \u001b[38;5;28;01mimport\u001b[39;00m cdist\n\u001b[1;32m----> 3\u001b[0m \u001b[38;5;28;01mfrom\u001b[39;00m \u001b[38;5;21;01mLevenshtein\u001b[39;00m \u001b[38;5;28;01mimport\u001b[39;00m distance \u001b[38;5;28;01mas\u001b[39;00m levenshtein_distance\n",
      "\u001b[1;31mModuleNotFoundError\u001b[0m: No module named 'Levenshtein'"
     ]
    }
   ],
   "source": [
    "import pandas as pd\n",
    "from scipy.spatial.distance import cdist\n",
    "from Levenshtein import distance as levenshtein_distance"
   ]
  },
  {
   "cell_type": "code",
   "execution_count": null,
   "metadata": {},
   "outputs": [],
   "source": [
    "import pandas as pd\n",
    "from scipy.spatial.distance import cdist\n",
    "from Levenshtein import distance as levenshtein_distance\n",
    "\n",
    "# Model 1: Define a function to recommend similar items based on a user input product name\n",
    "def recommend_similar_items(user_item_index, glove_feature_array, top_n=10):\n",
    "    # Compute cosine similarities between the user item and all other items\n",
    "    user_item_vector = glove_feature_array[user_item_index].reshape(1, -1)\n",
    "    similarity_scores = cdist(user_item_vector, glove_feature_array, metric='cosine')\n",
    "\n",
    "    # Get top N most similar items (excluding the user item itself)\n",
    "    similar_items = list(enumerate(similarity_scores[0]))\n",
    "    sorted_similar_items = sorted(similar_items, key=lambda x: x[1], reverse=False)[:top_n]\n",
    "\n",
    "    return sorted_similar_items\n",
    "\n",
    "# Model 2: Define a function to find the closest match for the user input among product names using Levenshtein Distance\n",
    "def find_closest_match(user_input, product_names):\n",
    "    closest_match = None\n",
    "    min_distance = float('inf')\n",
    "    for product_name in product_names:\n",
    "        distance = levenshtein_distance(user_input, product_name)\n",
    "        if distance < min_distance:\n",
    "            min_distance = distance\n",
    "            closest_match = product_name\n",
    "    return closest_match\n",
    "\n",
    "# Hybrid recommendation function\n",
    "def hybrid_recommendation(user_input, glove_feature_array, df):\n",
    "    # Model 1: Get recommendations based on the user input (similar product name)\n",
    "    closest_product_name = find_closest_match(user_input, df['product_name'])\n",
    "    recommendations_list = []  # List to store recommendations\n",
    "\n",
    "    if closest_product_name:\n",
    "        # Get recommendations for the closest matching product name\n",
    "        user_item_index = df[df['product_name'] == closest_product_name].index[0]\n",
    "        recommendations = recommend_similar_items(user_item_index, glove_feature_array)\n",
    "\n",
    "        # Populate the recommendations list with top 10 recommendations and additional information\n",
    "        for i, score in recommendations[:10]:  # Selecting only the top 10 recommendations\n",
    "            recommended_product_name = df.loc[i, 'product_name']\n",
    "            rating = df.loc[df['product_name'] == recommended_product_name, 'rating'].iloc[0]\n",
    "            brand_name = df.loc[df['product_name'] == recommended_product_name, 'brand_name'].iloc[0]\n",
    "            recommendations_list.append({\n",
    "                'Product Name': recommended_product_name,\n",
    "                'Similarity Score': score,\n",
    "                'Rating': rating,\n",
    "                'Brand Name': brand_name\n",
    "            })\n",
    "    \n",
    "    # Model 2: Get recommendations based on the user input (closest matching product name)\n",
    "    user_input_recommendations = []\n",
    "    if closest_product_name:\n",
    "        closest_match_recommendations = find_closest_match(user_input, df['product_name'])\n",
    "        if closest_match_recommendations:\n",
    "            user_input_recommendations.append(closest_match_recommendations)\n",
    "\n",
    "    # Combine recommendations from both models\n",
    "    combined_recommendations = user_input_recommendations + recommendations_list\n",
    "    \n",
    "    # Convert the list to a DataFrame\n",
    "    recommendations_df = pd.DataFrame(combined_recommendations)\n",
    "\n",
    "    return recommendations_df\n",
    "\n",
    "# Example usage\n",
    "user_input = \"shirts\"  # Replace with the user input\n",
    "hybrid_results = hybrid_recommendation(user_input, glove_feature_array, df)\n",
    "\n",
    "# Display the hybrid recommendations DataFrame\n",
    "print(\"Hybrid recommendations:\")\n",
    "print(hybrid_results)\n"
   ]
  },
  {
   "cell_type": "code",
   "execution_count": null,
   "metadata": {},
   "outputs": [],
   "source": []
  }
 ],
 "metadata": {
  "colab": {
   "provenance": []
  },
  "kernelspec": {
   "display_name": "Python 3 (ipykernel)",
   "language": "python",
   "name": "python3"
  },
  "language_info": {
   "codemirror_mode": {
    "name": "ipython",
    "version": 3
   },
   "file_extension": ".py",
   "mimetype": "text/x-python",
   "name": "python",
   "nbconvert_exporter": "python",
   "pygments_lexer": "ipython3",
   "version": "3.12.1"
  }
 },
 "nbformat": 4,
 "nbformat_minor": 4
}
